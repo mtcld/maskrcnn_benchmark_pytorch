{
 "cells": [
  {
   "cell_type": "code",
   "execution_count": 1,
   "metadata": {},
   "outputs": [],
   "source": [
    "pickle_file = '/home/sulabh/Documents/work/dmgdetection/pytorch/model/model_final.pkl'"
   ]
  },
  {
   "cell_type": "code",
   "execution_count": 2,
   "metadata": {},
   "outputs": [],
   "source": [
    "import pickle"
   ]
  },
  {
   "cell_type": "code",
   "execution_count": 9,
   "metadata": {},
   "outputs": [
    {
     "ename": "TypeError",
     "evalue": "loads() takes at most 1 positional arguments (2 given)",
     "output_type": "error",
     "traceback": [
      "\u001b[0;31m---------------------------------------------------------------------------\u001b[0m",
      "\u001b[0;31mTypeError\u001b[0m                                 Traceback (most recent call last)",
      "\u001b[0;32m<ipython-input-9-019b86bae26b>\u001b[0m in \u001b[0;36m<module>\u001b[0;34m\u001b[0m\n\u001b[0;32m----> 1\u001b[0;31m \u001b[0ma\u001b[0m \u001b[0;34m=\u001b[0m \u001b[0mpickle\u001b[0m\u001b[0;34m.\u001b[0m\u001b[0mloads\u001b[0m\u001b[0;34m(\u001b[0m\u001b[0;34m'/home/sulabh/Documents/work/dmgdetection/pytorch/model/model_final.pkl'\u001b[0m\u001b[0;34m,\u001b[0m \u001b[0;34m'rb'\u001b[0m\u001b[0;34m)\u001b[0m\u001b[0;34m\u001b[0m\u001b[0;34m\u001b[0m\u001b[0m\n\u001b[0m",
      "\u001b[0;31mTypeError\u001b[0m: loads() takes at most 1 positional arguments (2 given)"
     ]
    }
   ],
   "source": [
    "a = pickle.loads(, 'rb')"
   ]
  },
  {
   "cell_type": "code",
   "execution_count": 10,
   "metadata": {},
   "outputs": [],
   "source": [
    "with open('/home/sulabh/Documents/work/dmgdetection/pytorch/model/model_final.pkl', 'rb') as f:\n",
    "    d = pickle.load(f, encoding='latin1') "
   ]
  },
  {
   "cell_type": "code",
   "execution_count": 12,
   "metadata": {},
   "outputs": [
    {
     "data": {
      "text/plain": [
       "dict_keys(['cfg', 'blobs'])"
      ]
     },
     "execution_count": 12,
     "metadata": {},
     "output_type": "execute_result"
    }
   ],
   "source": [
    "d.keys()"
   ]
  },
  {
   "cell_type": "code",
   "execution_count": 13,
   "metadata": {},
   "outputs": [],
   "source": [
    "import torch"
   ]
  },
  {
   "cell_type": "code",
   "execution_count": 16,
   "metadata": {},
   "outputs": [
    {
     "ename": "UnicodeDecodeError",
     "evalue": "'ascii' codec can't decode byte 0x95 in position 6: ordinal not in range(128)",
     "output_type": "error",
     "traceback": [
      "\u001b[0;31m---------------------------------------------------------------------------\u001b[0m",
      "\u001b[0;31mUnicodeDecodeError\u001b[0m                        Traceback (most recent call last)",
      "\u001b[0;32m<ipython-input-16-f05af010aacf>\u001b[0m in \u001b[0;36m<module>\u001b[0;34m\u001b[0m\n\u001b[0;32m----> 1\u001b[0;31m \u001b[0moriginal\u001b[0m \u001b[0;34m=\u001b[0m \u001b[0mtorch\u001b[0m\u001b[0;34m.\u001b[0m\u001b[0mload\u001b[0m\u001b[0;34m(\u001b[0m\u001b[0;34m'/home/sulabh/Documents/work/dmgdetection/pytorch/model/model_final.pkl'\u001b[0m\u001b[0;34m,\u001b[0m \u001b[0mmap_location\u001b[0m\u001b[0;34m=\u001b[0m\u001b[0;34m'cpu'\u001b[0m\u001b[0;34m)\u001b[0m\u001b[0;34m\u001b[0m\u001b[0;34m\u001b[0m\u001b[0m\n\u001b[0m",
      "\u001b[0;32m~/software/anaconda3/envs/maskrcnn_benchmark/lib/python3.7/site-packages/torch/serialization.py\u001b[0m in \u001b[0;36mload\u001b[0;34m(f, map_location, pickle_module, **pickle_load_args)\u001b[0m\n\u001b[1;32m    383\u001b[0m         \u001b[0mf\u001b[0m \u001b[0;34m=\u001b[0m \u001b[0mopen\u001b[0m\u001b[0;34m(\u001b[0m\u001b[0mf\u001b[0m\u001b[0;34m,\u001b[0m \u001b[0;34m'rb'\u001b[0m\u001b[0;34m)\u001b[0m\u001b[0;34m\u001b[0m\u001b[0;34m\u001b[0m\u001b[0m\n\u001b[1;32m    384\u001b[0m     \u001b[0;32mtry\u001b[0m\u001b[0;34m:\u001b[0m\u001b[0;34m\u001b[0m\u001b[0;34m\u001b[0m\u001b[0m\n\u001b[0;32m--> 385\u001b[0;31m         \u001b[0;32mreturn\u001b[0m \u001b[0m_load\u001b[0m\u001b[0;34m(\u001b[0m\u001b[0mf\u001b[0m\u001b[0;34m,\u001b[0m \u001b[0mmap_location\u001b[0m\u001b[0;34m,\u001b[0m \u001b[0mpickle_module\u001b[0m\u001b[0;34m,\u001b[0m \u001b[0;34m**\u001b[0m\u001b[0mpickle_load_args\u001b[0m\u001b[0;34m)\u001b[0m\u001b[0;34m\u001b[0m\u001b[0;34m\u001b[0m\u001b[0m\n\u001b[0m\u001b[1;32m    386\u001b[0m     \u001b[0;32mfinally\u001b[0m\u001b[0;34m:\u001b[0m\u001b[0;34m\u001b[0m\u001b[0;34m\u001b[0m\u001b[0m\n\u001b[1;32m    387\u001b[0m         \u001b[0;32mif\u001b[0m \u001b[0mnew_fd\u001b[0m\u001b[0;34m:\u001b[0m\u001b[0;34m\u001b[0m\u001b[0;34m\u001b[0m\u001b[0m\n",
      "\u001b[0;32m~/software/anaconda3/envs/maskrcnn_benchmark/lib/python3.7/site-packages/torch/serialization.py\u001b[0m in \u001b[0;36m_load\u001b[0;34m(f, map_location, pickle_module, **pickle_load_args)\u001b[0m\n\u001b[1;32m    560\u001b[0m             \u001b[0mf\u001b[0m\u001b[0;34m.\u001b[0m\u001b[0mseek\u001b[0m\u001b[0;34m(\u001b[0m\u001b[0;36m0\u001b[0m\u001b[0;34m)\u001b[0m\u001b[0;34m\u001b[0m\u001b[0;34m\u001b[0m\u001b[0m\n\u001b[1;32m    561\u001b[0m \u001b[0;34m\u001b[0m\u001b[0m\n\u001b[0;32m--> 562\u001b[0;31m     \u001b[0mmagic_number\u001b[0m \u001b[0;34m=\u001b[0m \u001b[0mpickle_module\u001b[0m\u001b[0;34m.\u001b[0m\u001b[0mload\u001b[0m\u001b[0;34m(\u001b[0m\u001b[0mf\u001b[0m\u001b[0;34m,\u001b[0m \u001b[0;34m**\u001b[0m\u001b[0mpickle_load_args\u001b[0m\u001b[0;34m)\u001b[0m\u001b[0;34m\u001b[0m\u001b[0;34m\u001b[0m\u001b[0m\n\u001b[0m\u001b[1;32m    563\u001b[0m     \u001b[0;32mif\u001b[0m \u001b[0mmagic_number\u001b[0m \u001b[0;34m!=\u001b[0m \u001b[0mMAGIC_NUMBER\u001b[0m\u001b[0;34m:\u001b[0m\u001b[0;34m\u001b[0m\u001b[0;34m\u001b[0m\u001b[0m\n\u001b[1;32m    564\u001b[0m         \u001b[0;32mraise\u001b[0m \u001b[0mRuntimeError\u001b[0m\u001b[0;34m(\u001b[0m\u001b[0;34m\"Invalid magic number; corrupt file?\"\u001b[0m\u001b[0;34m)\u001b[0m\u001b[0;34m\u001b[0m\u001b[0;34m\u001b[0m\u001b[0m\n",
      "\u001b[0;31mUnicodeDecodeError\u001b[0m: 'ascii' codec can't decode byte 0x95 in position 6: ordinal not in range(128)"
     ]
    }
   ],
   "source": [
    "original = torch.load('/home/sulabh/Documents/work/dmgdetection/pytorch/model/model_final.pkl', map_location='cpu')"
   ]
  },
  {
   "cell_type": "code",
   "execution_count": null,
   "metadata": {},
   "outputs": [],
   "source": []
  },
  {
   "cell_type": "code",
   "execution_count": 18,
   "metadata": {},
   "outputs": [
    {
     "name": "stdout",
     "output_type": "stream",
     "text": [
      "['bbox_pred.bias', 'bbox_pred.weight', 'bn1.bias', 'bn1.weight', 'cls_score.bias', 'cls_score.weight', 'conv1.bias', 'conv1.weight', 'conv5_mask.bias', 'conv5_mask.weight', 'fc1000.bias', 'fc1000.weight', 'fc6.bias', 'fc6.weight', 'fc7.bias', 'fc7.weight', 'fpn.inner.layer3.5.sum.lateral.bias', 'fpn.inner.layer3.5.sum.lateral.weight', 'fpn.layer3.5.sum.bias', 'fpn.layer3.5.sum.weight', 'fpn_inner1.bias', 'fpn_inner1.weight', 'fpn_inner2.bias', 'fpn_inner2.weight', 'fpn_inner4.bias', 'fpn_inner4.weight', 'fpn_layer1.bias', 'fpn_layer1.weight', 'fpn_layer2.bias', 'fpn_layer2.weight', 'fpn_layer4.bias', 'fpn_layer4.weight', 'layer1.0.bn1.bias', 'layer1.0.bn1.weight', 'layer1.0.bn2.bias', 'layer1.0.bn2.weight', 'layer1.0.bn3.bias', 'layer1.0.bn3.weight', 'layer1.0.conv1.bias', 'layer1.0.conv1.weight', 'layer1.0.conv2.bias', 'layer1.0.conv2.weight', 'layer1.0.conv3.bias', 'layer1.0.conv3.weight', 'layer1.0.downsample.0.bias', 'layer1.0.downsample.0.weight', 'layer1.0.downsample.1.bias', 'layer1.0.downsample.1.weight', 'layer1.1.bn1.bias', 'layer1.1.bn1.weight', 'layer1.1.bn2.bias', 'layer1.1.bn2.weight', 'layer1.1.bn3.bias', 'layer1.1.bn3.weight', 'layer1.1.conv1.bias', 'layer1.1.conv1.weight', 'layer1.1.conv2.bias', 'layer1.1.conv2.weight', 'layer1.1.conv3.bias', 'layer1.1.conv3.weight', 'layer1.2.bn1.bias', 'layer1.2.bn1.weight', 'layer1.2.bn2.bias', 'layer1.2.bn2.weight', 'layer1.2.bn3.bias', 'layer1.2.bn3.weight', 'layer1.2.conv1.bias', 'layer1.2.conv1.weight', 'layer1.2.conv2.bias', 'layer1.2.conv2.weight', 'layer1.2.conv3.bias', 'layer1.2.conv3.weight', 'layer2.0.bn1.bias', 'layer2.0.bn1.weight', 'layer2.0.bn2.bias', 'layer2.0.bn2.weight', 'layer2.0.bn3.bias', 'layer2.0.bn3.weight', 'layer2.0.conv1.bias', 'layer2.0.conv1.weight', 'layer2.0.conv2.bias', 'layer2.0.conv2.weight', 'layer2.0.conv3.bias', 'layer2.0.conv3.weight', 'layer2.0.downsample.0.bias', 'layer2.0.downsample.0.weight', 'layer2.0.downsample.1.bias', 'layer2.0.downsample.1.weight', 'layer2.1.bn1.bias', 'layer2.1.bn1.weight', 'layer2.1.bn2.bias', 'layer2.1.bn2.weight', 'layer2.1.bn3.bias', 'layer2.1.bn3.weight', 'layer2.1.conv1.bias', 'layer2.1.conv1.weight', 'layer2.1.conv2.bias', 'layer2.1.conv2.weight', 'layer2.1.conv3.bias', 'layer2.1.conv3.weight', 'layer2.2.bn1.bias', 'layer2.2.bn1.weight', 'layer2.2.bn2.bias', 'layer2.2.bn2.weight', 'layer2.2.bn3.bias', 'layer2.2.bn3.weight', 'layer2.2.conv1.bias', 'layer2.2.conv1.weight', 'layer2.2.conv2.bias', 'layer2.2.conv2.weight', 'layer2.2.conv3.bias', 'layer2.2.conv3.weight', 'layer2.3.bn1.bias', 'layer2.3.bn1.weight', 'layer2.3.bn2.bias', 'layer2.3.bn2.weight', 'layer2.3.bn3.bias', 'layer2.3.bn3.weight', 'layer2.3.conv1.bias', 'layer2.3.conv1.weight', 'layer2.3.conv2.bias', 'layer2.3.conv2.weight', 'layer2.3.conv3.bias', 'layer2.3.conv3.weight', 'layer3.0.bn1.bias', 'layer3.0.bn1.weight', 'layer3.0.bn2.bias', 'layer3.0.bn2.weight', 'layer3.0.bn3.bias', 'layer3.0.bn3.weight', 'layer3.0.conv1.bias', 'layer3.0.conv1.weight', 'layer3.0.conv2.bias', 'layer3.0.conv2.weight', 'layer3.0.conv3.bias', 'layer3.0.conv3.weight', 'layer3.0.downsample.0.bias', 'layer3.0.downsample.0.weight', 'layer3.0.downsample.1.bias', 'layer3.0.downsample.1.weight', 'layer3.1.bn1.bias', 'layer3.1.bn1.weight', 'layer3.1.bn2.bias', 'layer3.1.bn2.weight', 'layer3.1.bn3.bias', 'layer3.1.bn3.weight', 'layer3.1.conv1.bias', 'layer3.1.conv1.weight', 'layer3.1.conv2.bias', 'layer3.1.conv2.weight', 'layer3.1.conv3.bias', 'layer3.1.conv3.weight', 'layer3.2.bn1.bias', 'layer3.2.bn1.weight', 'layer3.2.bn2.bias', 'layer3.2.bn2.weight', 'layer3.2.bn3.bias', 'layer3.2.bn3.weight', 'layer3.2.conv1.bias', 'layer3.2.conv1.weight', 'layer3.2.conv2.bias', 'layer3.2.conv2.weight', 'layer3.2.conv3.bias', 'layer3.2.conv3.weight', 'layer3.3.bn1.bias', 'layer3.3.bn1.weight', 'layer3.3.bn2.bias', 'layer3.3.bn2.weight', 'layer3.3.bn3.bias', 'layer3.3.bn3.weight', 'layer3.3.conv1.bias', 'layer3.3.conv1.weight', 'layer3.3.conv2.bias', 'layer3.3.conv2.weight', 'layer3.3.conv3.bias', 'layer3.3.conv3.weight', 'layer3.4.bn1.bias', 'layer3.4.bn1.weight', 'layer3.4.bn2.bias', 'layer3.4.bn2.weight', 'layer3.4.bn3.bias', 'layer3.4.bn3.weight', 'layer3.4.conv1.bias', 'layer3.4.conv1.weight', 'layer3.4.conv2.bias', 'layer3.4.conv2.weight', 'layer3.4.conv3.bias', 'layer3.4.conv3.weight', 'layer3.5.bn1.bias', 'layer3.5.bn1.weight', 'layer3.5.bn2.bias', 'layer3.5.bn2.weight', 'layer3.5.bn3.bias', 'layer3.5.bn3.weight', 'layer3.5.conv1.bias', 'layer3.5.conv1.weight', 'layer3.5.conv2.bias', 'layer3.5.conv2.weight', 'layer3.5.conv3.bias', 'layer3.5.conv3.weight', 'layer4.0.bn1.bias', 'layer4.0.bn1.weight', 'layer4.0.bn2.bias', 'layer4.0.bn2.weight', 'layer4.0.bn3.bias', 'layer4.0.bn3.weight', 'layer4.0.conv1.bias', 'layer4.0.conv1.weight', 'layer4.0.conv2.bias', 'layer4.0.conv2.weight', 'layer4.0.conv3.bias', 'layer4.0.conv3.weight', 'layer4.0.downsample.0.bias', 'layer4.0.downsample.0.weight', 'layer4.0.downsample.1.bias', 'layer4.0.downsample.1.weight', 'layer4.1.bn1.bias', 'layer4.1.bn1.weight', 'layer4.1.bn2.bias', 'layer4.1.bn2.weight', 'layer4.1.bn3.bias', 'layer4.1.bn3.weight', 'layer4.1.conv1.bias', 'layer4.1.conv1.weight', 'layer4.1.conv2.bias', 'layer4.1.conv2.weight', 'layer4.1.conv3.bias', 'layer4.1.conv3.weight', 'layer4.2.bn1.bias', 'layer4.2.bn1.weight', 'layer4.2.bn2.bias', 'layer4.2.bn2.weight', 'layer4.2.bn3.bias', 'layer4.2.bn3.weight', 'layer4.2.conv1.bias', 'layer4.2.conv1.weight', 'layer4.2.conv2.bias', 'layer4.2.conv2.weight', 'layer4.2.conv3.bias', 'layer4.2.conv3.weight', 'mask_fcn1.bias', 'mask_fcn1.weight', 'mask_fcn2.bias', 'mask_fcn2.weight', 'mask_fcn3.bias', 'mask_fcn3.weight', 'mask_fcn4.bias', 'mask_fcn4.weight', 'mask_fcn_logits.bias', 'mask_fcn_logits.weight', 'rpn.head.bbox_pred.bias', 'rpn.head.bbox_pred.weight', 'rpn.head.cls_logits.bias', 'rpn.head.cls_logits.weight', 'rpn.head.conv.bias', 'rpn.head.conv.weight']\n"
     ]
    }
   ],
   "source": [
    "from maskrcnn_benchmark.config import cfg\n",
    "from maskrcnn_benchmark.utils.c2_model_loading import load_c2_format\n",
    "\n",
    "cfg.merge_from_file(\"../configs/caffe2/e2e_mask_rcnn_X_101_32x8d_FPN_1x_caffe2.yaml\")\n",
    "path = '/home/sulabh/Documents/work/dmgdetection/pytorch/model/model_final.pkl'\n",
    "_d = load_c2_format(cfg, path)\n",
    "\n",
    "keys = [k for k in _d['model'].keys()]\n",
    "print(sorted(keys))"
   ]
  },
  {
   "cell_type": "code",
   "execution_count": null,
   "metadata": {},
   "outputs": [],
   "source": []
  },
  {
   "cell_type": "code",
   "execution_count": null,
   "metadata": {},
   "outputs": [],
   "source": [
    "def _transfer_pretrained_weights(model, pretrained_model_pth):\n",
    "    pretrained_weights = torch.load(pretrained_model_pth)['model']\n",
    "    new_dict = {k.replace('module.',''):v for k, v in pretrained_weights.items()\n",
    "                if 'cls_score' not in k and 'bbox_pred' not in k}\n",
    "    this_state = model.state_dict()\n",
    "    this_state.update(new_dict)\n",
    "    model.load_state_dict(this_state)\n",
    "    return model"
   ]
  },
  {
   "cell_type": "code",
   "execution_count": null,
   "metadata": {},
   "outputs": [],
   "source": []
  },
  {
   "cell_type": "code",
   "execution_count": null,
   "metadata": {},
   "outputs": [],
   "source": []
  }
 ],
 "metadata": {
  "kernelspec": {
   "display_name": "Python 3",
   "language": "python",
   "name": "python3"
  },
  "language_info": {
   "codemirror_mode": {
    "name": "ipython",
    "version": 3
   },
   "file_extension": ".py",
   "mimetype": "text/x-python",
   "name": "python",
   "nbconvert_exporter": "python",
   "pygments_lexer": "ipython3",
   "version": "3.7.1"
  }
 },
 "nbformat": 4,
 "nbformat_minor": 2
}
