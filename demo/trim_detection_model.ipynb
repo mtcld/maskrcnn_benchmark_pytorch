{
 "cells": [
  {
   "cell_type": "code",
   "execution_count": null,
   "metadata": {},
   "outputs": [],
   "source": [
    "import os\n",
    "import torch\n",
    "import argparse\n",
    "from maskrcnn_benchmark.config import cfg\n",
    "from maskrcnn_benchmark.utils.c2_model_loading import load_c2_format\n",
    "\n",
    "\n",
    "def removekey(d, listofkeys):\n",
    "    r = dict(d)\n",
    "    for key in listofkeys:\n",
    "        print('key: {} is removed'.format(key))\n",
    "        r.pop(key)\n",
    "    return r\n",
    "\n",
    "\n",
    "parser = argparse.ArgumentParser(description=\"Trim Detection weights and save in PyTorch format.\")\n",
    "parser.add_argument(\n",
    "    \"--pretrained_path\",\n",
    "    default=\"~/.torch/models/_detectron_35858933_12_2017_baselines_e2e_mask_rcnn_R-50-FPN_1x.yaml.01_48_14.DzEQe4wC_output_train_coco_2014_train%3Acoco_2014_valminusminival_generalized_rcnn_model_final.pkl\",\n",
    "    help=\"path to detectron pretrained weight(.pkl)\",\n",
    "    type=str,\n",
    ")\n",
    "parser.add_argument(\n",
    "    \"--save_path\",\n",
    "    default=\"./pretrained_model/mask_rcnn_R-50-FPN_1x_detectron_no_last_layers.pth\",\n",
    "    help=\"path to save the converted model\",\n",
    "    type=str,\n",
    ")\n",
    "parser.add_argument(\n",
    "    \"--cfg\",\n",
    "    default=\"configs/e2e_mask_rcnn_R_50_FPN_1x.yaml\",\n",
    "    help=\"path to config file\",\n",
    "    type=str,\n",
    ")\n",
    "\n",
    "args = parser.parse_args()\n",
    "#\n",
    "DETECTRON_PATH = os.path.expanduser(args.pretrained_path)\n",
    "print('detectron path: {}'.format(DETECTRON_PATH))\n",
    "\n",
    "cfg.merge_from_file(args.cfg)\n",
    "_d = load_c2_format(cfg, DETECTRON_PATH)\n",
    "newdict = _d\n",
    "\n",
    "newdict['model'] = removekey(_d['model'],\n",
    "                             ['cls_score.bias', 'cls_score.weight', 'bbox_pred.bias', 'bbox_pred.weight'])\n",
    "torch.save(newdict, args.save_path)\n",
    "print('saved to {}.'.format(args.save_path))"
   ]
  }
 ],
 "metadata": {
  "kernelspec": {
   "display_name": "Python 3",
   "language": "python",
   "name": "python3"
  },
  "language_info": {
   "codemirror_mode": {
    "name": "ipython",
    "version": 3
   },
   "file_extension": ".py",
   "mimetype": "text/x-python",
   "name": "python",
   "nbconvert_exporter": "python",
   "pygments_lexer": "ipython3",
   "version": "3.7.1"
  }
 },
 "nbformat": 4,
 "nbformat_minor": 2
}
